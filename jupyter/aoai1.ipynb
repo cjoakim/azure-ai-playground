{
 "cells": [
  {
   "cell_type": "code",
   "execution_count": 17,
   "id": "c63d51af-a6da-4c80-8dba-af386adc2b83",
   "metadata": {
    "scrolled": true
   },
   "outputs": [
    {
     "name": "stdout",
     "output_type": "stream",
     "text": [
      "openai_url:      https://gbbcjcaigopenai3.openai.azure.com/\n",
      "openai_key:      d1b\n",
      "openai_version:  2023-07-01-preview\n",
      "embeddings_dep:  embeddings\n",
      "completions_dep: gpt4\n",
      "aoai_client created\n"
     ]
    }
   ],
   "source": [
    "# Read environment variables\n",
    "\n",
    "import os\n",
    "import traceback\n",
    "\n",
    "import openai\n",
    "from openai import AzureOpenAI\n",
    "from dotenv import load_dotenv\n",
    "\n",
    "load_dotenv(override=True)\n",
    "\n",
    "openai_url      = os.environ['AZURE_OPENAI_URL']\n",
    "openai_key      = os.environ['AZURE_OPENAI_KEY']\n",
    "openai_version  = os.environ['AZURE_OPENAI_API_VERSION']  # \"2023-07-01-preview\" \n",
    "embeddings_dep  = os.environ['AZURE_OPENAI_EMBEDDINGS_DEP']\n",
    "completions_dep = os.environ['AZURE_OPENAI_COMPLETIONS_DEP']\n",
    "\n",
    "openai.api_type = \"azure\"\n",
    "openai.api_version = openai_version\n",
    "openai.api_base = openai_url\n",
    "openai.api_key  = openai_key\n",
    "\n",
    "print(\"openai_url:      {}\".format(openai_url))\n",
    "print(\"openai_key:      {}\".format(openai_key[0:3]))\n",
    "print(\"openai_version:  {}\".format(openai_version))\n",
    "print(\"embeddings_dep:  {}\".format(embeddings_dep))\n",
    "print(\"completions_dep: {}\".format(completions_dep))\n",
    "\n",
    "try:\n",
    "    aoai_client = AzureOpenAI(\n",
    "        azure_endpoint=openai_url,\n",
    "        api_key=openai_key,\n",
    "        api_version=openai_version,\n",
    "    )\n",
    "    print(\"aoai_client created\")\n",
    "except Exception as e:\n",
    "    print(\"Exception while creating AzureOpenAI client: {}\".format(str(e)))\n",
    "    print(traceback.format_exc())\n"
   ]
  },
  {
   "cell_type": "code",
   "execution_count": 18,
   "id": "c172ff81-6e57-46ff-b0fb-e5255f846495",
   "metadata": {},
   "outputs": [
    {
     "name": "stderr",
     "output_type": "stream",
     "text": [
      "WARNING:root:file written: tmp/embedding.json\n"
     ]
    },
    {
     "name": "stdout",
     "output_type": "stream",
     "text": [
      "embedding length: 1536\n",
      "embedding[:4]: [0.018863078206777573, -0.006897789891809225, 0.015606330707669258, 0.007549139205366373]\n"
     ]
    }
   ],
   "source": [
    "# Generate embeddings for a given string value.\n",
    "\n",
    "import traceback\n",
    "from pysrc.util.fs import FS\n",
    "\n",
    "try:\n",
    "    text = \"A long time ago came a man on a track. Walking thirty miles with a sack on his back.\"\n",
    "    response = aoai_client.embeddings.create(input=text, model=embeddings_dep)\n",
    "    embedding = response.data[0].embedding\n",
    "\n",
    "    print(\"embedding length: {}\".format(len(embedding)))   \n",
    "    print(\"embedding[:4]: {}\".format(embedding[:4])) \n",
    "    FS.write_json(embedding, \"tmp/embedding.json\")\n",
    "except Exception as e:\n",
    "    print(\"Exception while creating embedding: {}\".format(str(e)))\n",
    "    print(traceback.format_exc())\n"
   ]
  },
  {
   "cell_type": "code",
   "execution_count": 19,
   "id": "13c12c6e-766a-4c81-b8b6-d509c52042ab",
   "metadata": {},
   "outputs": [
    {
     "name": "stderr",
     "output_type": "stream",
     "text": [
      "WARNING:root:file written: tmp/simple_completion.json\n"
     ]
    }
   ],
   "source": [
    "# Generate a simple completion\n",
    "\n",
    "import json\n",
    "import traceback\n",
    "\n",
    "try:\n",
    "    completion = aoai_client.chat.completions.create(\n",
    "        model=completions_dep,\n",
    "        messages=[\n",
    "            {\"role\": \"system\", \"content\": \"You are a helpful assistant.\"},\n",
    "            {\"role\": \"user\", \"content\": \"What is the capitol of North Carolina?\"},\n",
    "        ],\n",
    "        temperature=0\n",
    "    )\n",
    "    FS.write_json(json.loads(completion.to_json()), \"tmp/simple_completion.json\")\n",
    "except Exception as e:\n",
    "    print(\"Exception while creating completion: {}\".format(str(e)))\n",
    "    print(traceback.format_exc())"
   ]
  },
  {
   "cell_type": "code",
   "execution_count": 20,
   "id": "c11c4ed0-59cd-4446-a9b2-2b1bda49e0f5",
   "metadata": {},
   "outputs": [
    {
     "name": "stderr",
     "output_type": "stream",
     "text": [
      "WARNING:root:file written: tmp/fsutil.py\n",
      "WARNING:root:file written: tmp/fsutil_completion.json\n"
     ]
    }
   ],
   "source": [
    "# Generate a python module \n",
    "\n",
    "import json\n",
    "import traceback\n",
    "\n",
    "try:\n",
    "    prompt = \"\"\"\n",
    "You have two tasks to execute:\n",
    "- Generate a python 3 class named FSUtil in module pysrc.util.fsutil.py.\n",
    "- Also generate a unit test for this class which uses the pytest testing framework.\n",
    "\n",
    "The focus of class FSUtil is on providing easy to use filesystem access to read and write files.\n",
    "\n",
    "The class has no instance methods, only class methods.\n",
    "\n",
    "All methods should assume the following:\n",
    "- Use \"utf-8\" encoding\n",
    "\n",
    "It should implement the following list of methods per these signatures:\n",
    "- def as_unix_filename(cls, filename: str) -> str:\n",
    "- def read(cls, infile: str) -> str | None:\n",
    "- def read_with_encoding, infile: str, encoding: str) -> str | None:\n",
    "- def read_lines(cls, infile: str) -> list[str] | None:\n",
    "\"\"\"\n",
    "    # AzureOpenAI chat.completions.create \n",
    "    completion = aoai_client.chat.completions.create(\n",
    "        model=completions_dep,\n",
    "        messages=[\n",
    "            {\"role\": \"system\", \"content\": \"You are a helpful assistant who generates Python code.\"},\n",
    "            {\"role\": \"user\", \"content\": prompt}\n",
    "        ],\n",
    "        temperature=0\n",
    "    )\n",
    "    FS.write(\"tmp/fsutil.py\", completion.choices[0].message.content)\n",
    "    FS.write_json(json.loads(completion.to_json()), \"tmp/fsutil_completion.json\")\n",
    "except Exception as e:\n",
    "    print(\"Exception while creating completion: {}\".format(str(e)))\n",
    "    print(traceback.format_exc())"
   ]
  },
  {
   "cell_type": "code",
   "execution_count": null,
   "id": "006d5aa4-df51-4910-86c1-72e5a0fa1487",
   "metadata": {},
   "outputs": [],
   "source": []
  }
 ],
 "metadata": {
  "kernelspec": {
   "display_name": "Python 3 (ipykernel)",
   "language": "python",
   "name": "python3"
  },
  "language_info": {
   "codemirror_mode": {
    "name": "ipython",
    "version": 3
   },
   "file_extension": ".py",
   "mimetype": "text/x-python",
   "name": "python",
   "nbconvert_exporter": "python",
   "pygments_lexer": "ipython3",
   "version": "3.12.3"
  }
 },
 "nbformat": 4,
 "nbformat_minor": 5
}
