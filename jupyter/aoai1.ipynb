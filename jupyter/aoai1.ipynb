{
 "cells": [
  {
   "cell_type": "code",
   "execution_count": 28,
   "id": "c63d51af-a6da-4c80-8dba-af386adc2b83",
   "metadata": {
    "scrolled": true
   },
   "outputs": [
    {
     "name": "stdout",
     "output_type": "stream",
     "text": [
      "openai_url:      https://gbbcjcaigopenai3.openai.azure.com/\n",
      "openai_key:      d1b\n",
      "openai_version:  2023-07-01-preview\n",
      "embeddings_dep:  embeddings\n",
      "completions_dep: gpt4\n",
      "aoai_client created\n"
     ]
    }
   ],
   "source": [
    "# Read environment variables\n",
    "\n",
    "import os\n",
    "import traceback\n",
    "\n",
    "import openai\n",
    "from openai import AzureOpenAI\n",
    "from dotenv import load_dotenv\n",
    "\n",
    "load_dotenv(override=True)\n",
    "\n",
    "openai_url      = os.environ['AZURE_OPENAI_URL']\n",
    "openai_key      = os.environ['AZURE_OPENAI_KEY']\n",
    "openai_version  = os.environ['AZURE_OPENAI_API_VERSION']  # \"2023-07-01-preview\" \n",
    "embeddings_dep  = os.environ['AZURE_OPENAI_EMBEDDINGS_DEP']\n",
    "completions_dep = os.environ['AZURE_OPENAI_COMPLETIONS_DEP']\n",
    "\n",
    "openai.api_type = \"azure\"\n",
    "openai.api_version = openai_version\n",
    "openai.api_base = openai_url\n",
    "openai.api_key  = openai_key\n",
    "\n",
    "print(\"openai_url:      {}\".format(openai_url))\n",
    "print(\"openai_key:      {}\".format(openai_key[0:3]))\n",
    "print(\"openai_version:  {}\".format(openai_version))\n",
    "print(\"embeddings_dep:  {}\".format(embeddings_dep))\n",
    "print(\"completions_dep: {}\".format(completions_dep))\n",
    "\n",
    "try:\n",
    "    aoai_client = AzureOpenAI(\n",
    "        azure_endpoint=openai_url,\n",
    "        api_key=openai_key,\n",
    "        api_version=openai_version,\n",
    "    )\n",
    "    print(\"aoai_client created\")\n",
    "except Exception as e:\n",
    "    print(\"Exception while creating AzureOpenAI client: {}\".format(str(e)))\n",
    "    print(traceback.format_exc())\n"
   ]
  },
  {
   "cell_type": "code",
   "execution_count": 29,
   "id": "c172ff81-6e57-46ff-b0fb-e5255f846495",
   "metadata": {},
   "outputs": [
    {
     "name": "stderr",
     "output_type": "stream",
     "text": [
      "WARNING:root:file written: tmp/embedding.json\n"
     ]
    },
    {
     "name": "stdout",
     "output_type": "stream",
     "text": [
      "embedding length: 1536\n",
      "embedding[:4]: [0.018863078206777573, -0.006897789891809225, 0.015606330707669258, 0.007549139205366373]\n"
     ]
    }
   ],
   "source": [
    "# Generate embeddings for a given string value.\n",
    "\n",
    "import traceback\n",
    "from pysrc.util.fs import FS\n",
    "\n",
    "try:\n",
    "    text = \"A long time ago came a man on a track. Walking thirty miles with a sack on his back.\"\n",
    "    response = aoai_client.embeddings.create(input=text, model=embeddings_dep)\n",
    "    embedding = response.data[0].embedding\n",
    "\n",
    "    print(\"embedding length: {}\".format(len(embedding)))   \n",
    "    print(\"embedding[:4]: {}\".format(embedding[:4])) \n",
    "    FS.write_json(embedding, \"tmp/embedding.json\")\n",
    "except Exception as e:\n",
    "    print(\"Exception while creating embedding: {}\".format(str(e)))\n",
    "    print(traceback.format_exc())\n"
   ]
  },
  {
   "cell_type": "code",
   "execution_count": 30,
   "id": "13c12c6e-766a-4c81-b8b6-d509c52042ab",
   "metadata": {},
   "outputs": [
    {
     "name": "stdout",
     "output_type": "stream",
     "text": [
      "ChatCompletion(id='chatcmpl-9T8TvTfB7wUpJarAggGazcNBkwSHA', choices=[Choice(finish_reason='stop', index=0, logprobs=None, message=ChatCompletionMessage(content='Orange who?', role='assistant', function_call=None, tool_calls=None), content_filter_results={'hate': {'filtered': False, 'severity': 'safe'}, 'self_harm': {'filtered': False, 'severity': 'safe'}, 'sexual': {'filtered': False, 'severity': 'safe'}, 'violence': {'filtered': False, 'severity': 'safe'}})], created=1716731143, model='gpt-4', object='chat.completion', system_fingerprint='fp_7ec89fabc6', usage=CompletionUsage(completion_tokens=3, prompt_tokens=35, total_tokens=38), prompt_filter_results=[{'prompt_index': 0, 'content_filter_results': {'hate': {'filtered': False, 'severity': 'safe'}, 'self_harm': {'filtered': False, 'severity': 'safe'}, 'sexual': {'filtered': False, 'severity': 'safe'}, 'violence': {'filtered': False, 'severity': 'safe'}}}])\n",
      "role: assistant -> Orange who?\n",
      "ChatCompletion(id='chatcmpl-9T8Tv3th7zdddlxnNVzEoUdLeYxhB', choices=[Choice(finish_reason='stop', index=0, logprobs=None, message=ChatCompletionMessage(content='The capital of North Carolina is Raleigh.', role='assistant', function_call=None, tool_calls=None), content_filter_results={'hate': {'filtered': False, 'severity': 'safe'}, 'self_harm': {'filtered': False, 'severity': 'safe'}, 'sexual': {'filtered': False, 'severity': 'safe'}, 'violence': {'filtered': False, 'severity': 'safe'}})], created=1716731143, model='gpt-4', object='chat.completion', system_fingerprint='fp_7ec89fabc6', usage=CompletionUsage(completion_tokens=8, prompt_tokens=26, total_tokens=34), prompt_filter_results=[{'prompt_index': 0, 'content_filter_results': {'hate': {'filtered': False, 'severity': 'safe'}, 'self_harm': {'filtered': False, 'severity': 'safe'}, 'sexual': {'filtered': False, 'severity': 'safe'}, 'violence': {'filtered': False, 'severity': 'safe'}}}])\n",
      "role: assistant -> The capital of North Carolina is Raleigh.\n"
     ]
    }
   ],
   "source": [
    "# Generate a simple completion \n",
    "\n",
    "import traceback\n",
    "\n",
    "try:\n",
    "    response = aoai_client.chat.completions.create(\n",
    "        model=completions_dep,\n",
    "        messages=[\n",
    "            {\"role\": \"system\", \"content\": \"You are a helpful assistant.\"},\n",
    "            {\"role\": \"user\", \"content\": \"Knock knock.\"},\n",
    "            {\"role\": \"assistant\", \"content\": \"Who's there?\"},\n",
    "            {\"role\": \"user\", \"content\": \"Orange.\"}\n",
    "        ],\n",
    "        temperature=0\n",
    "    )\n",
    "    print(response)\n",
    "    print(\"role: {} -> {}\".format(response.choices[0].message.role, response.choices[0].message.content))\n",
    "    \n",
    "    response = aoai_client.chat.completions.create(\n",
    "        model=completions_dep,\n",
    "        messages=[\n",
    "            {\"role\": \"system\", \"content\": \"You are a helpful assistant.\"},\n",
    "            {\"role\": \"user\", \"content\": \"What is the capitol of North Carolina?\"},\n",
    "        ],\n",
    "        temperature=0\n",
    "    )\n",
    "    print(response)\n",
    "    print(\"role: {} -> {}\".format(response.choices[0].message.role, response.choices[0].message.content))\n",
    "    \n",
    "except Exception as e:\n",
    "    print(\"Exception while creating completion: {}\".format(str(e)))\n",
    "    print(traceback.format_exc())"
   ]
  }
 ],
 "metadata": {
  "kernelspec": {
   "display_name": "Python 3 (ipykernel)",
   "language": "python",
   "name": "python3"
  },
  "language_info": {
   "codemirror_mode": {
    "name": "ipython",
    "version": 3
   },
   "file_extension": ".py",
   "mimetype": "text/x-python",
   "name": "python",
   "nbconvert_exporter": "python",
   "pygments_lexer": "ipython3",
   "version": "3.12.3"
  }
 },
 "nbformat": 4,
 "nbformat_minor": 5
}
