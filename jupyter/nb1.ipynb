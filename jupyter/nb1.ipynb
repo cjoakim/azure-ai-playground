{
 "cells": [
  {
   "cell_type": "code",
   "execution_count": null,
   "id": "c63d51af-a6da-4c80-8dba-af386adc2b83",
   "metadata": {
    "scrolled": true
   },
   "outputs": [],
   "source": [
    "# Read env vars\n",
    "import os\n",
    "from dotenv import load_dotenv\n",
    "\n",
    "load_dotenv(override=True)\n",
    "\n",
    "openai_url      = os.environ['CAIG_AZURE_OPENAI_URL']\n",
    "openai_key      = os.environ['CAIG_AZURE_OPENAI_KEY']\n",
    "embeddings_dep  = os.environ['CAIG_AZURE_OPENAI_EMBEDDINGS_DEP']\n",
    "completions_dep = os.environ['CAIG_AZURE_OPENAI_COMPLETIONS_DEP']\n",
    "vcore_conn_str  = os.environ['CAIG_AZURE_MONGO_VCORE_CONN_STR']\n",
    "vcore_db        = os.environ['CAIG_GRAPH_SOURCE_DB']\n",
    "\n",
    "print(\"openai_url:      {}\".format(openai_url))\n",
    "print(\"openai_key:      {}\".format(openai_key[0:3]))\n",
    "print(\"embeddings_dep:  {}\".format(embeddings_dep))\n",
    "print(\"completions_dep: {}\".format(completions_dep))\n",
    "\n",
    "# See https://code.visualstudio.com/docs/datascience/jupyter-notebooks\n",
    "# To select an environment, use the Python: Select Interpreter command from the Command Palette (⇧⌘P)."
   ]
  },
  {
   "cell_type": "code",
   "execution_count": null,
   "id": "c172ff81-6e57-46ff-b0fb-e5255f846495",
   "metadata": {},
   "outputs": [],
   "source": [
    "# List the pip installed current libraries in this venv.\n",
    "\n",
    "!pip list"
   ]
  },
  {
   "cell_type": "code",
   "execution_count": null,
   "id": "da46cfb1-9cf4-4ce4-b2b4-cf06f5b60352",
   "metadata": {},
   "outputs": [],
   "source": [
    "from pysrc.util.fs import FS\n",
    "\n",
    "lines = FS.read_lines('requirements.in')\n",
    "for idx, line in enumerate(lines):\n",
    "    print(\"line: {} {}\".format(idx, line.strip()))\n",
    "          "
   ]
  },
  {
   "cell_type": "code",
   "execution_count": null,
   "id": "13c12c6e-766a-4c81-b8b6-d509c52042ab",
   "metadata": {},
   "outputs": [],
   "source": []
  }
 ],
 "metadata": {
  "kernelspec": {
   "display_name": "Python 3 (ipykernel)",
   "language": "python",
   "name": "python3"
  }
 },
 "nbformat": 4,
 "nbformat_minor": 5
}
